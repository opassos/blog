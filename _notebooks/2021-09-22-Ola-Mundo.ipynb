{
  "nbformat": 4,
  "nbformat_minor": 0,
  "metadata": {
    "colab": {
      "name": "2021-09-22-Ola-Mundo.ipynb",
      "provenance": [],
      "authorship_tag": "ABX9TyPUVio2znxH/xVtfQCXfucb"
    },
    "kernelspec": {
      "name": "python3",
      "display_name": "Python 3"
    },
    "language_info": {
      "name": "python"
    }
  },
  "cells": [
    {
      "cell_type": "markdown",
      "metadata": {
        "id": "48l44uYq-U5-"
      },
      "source": [
        "# \"Olá Mundo\"\n",
        "> \"Meu primeiro post\"\n",
        "\n",
        "- toc: false\n",
        "- comments: true\n",
        "- categories: [Olá Mundo, jupyter]\n",
        "- image: images/fotos/foto_avatar.jpg"
      ]
    },
    {
      "cell_type": "markdown",
      "metadata": {
        "id": "FWrJmSx1_uiO"
      },
      "source": [
        "## Missão\n",
        "\n",
        "Sou um apaixonado por Deep Learning e decidi juntar a minha experiência em sala de aula com essa paixão. Em minhas redes sociais vou te ensinar o caminho mais curto para se tornar um especialista em Machine Learning e se tornar um profissional desejado e mais bem pago.\n",
        "\n",
        "> youtube: https://youtu.be/O9LEbTEVwpg"
      ]
    },
    {
      "cell_type": "markdown",
      "metadata": {
        "id": "3leSEQ32_wLI"
      },
      "source": [
        "## Meus Links:\n",
        "\n",
        "- [GitHub](https://github.com/opassos)\n",
        "- [Kaggle](https://www.kaggle.com/coldfir3)\n",
        "- [LinkedIn](https://www.linkedin.com/in/oadrianopassos/)\n",
        "- [Instagram](https://www.instagram.com/oadrianopassos/)\n",
        "- [YouTube](https://www.youtube.com/channel/UC4oAbSIAA3JcHU0V0X4USTg)\n",
        "- [Facebook](https://www.facebook.com/oadrianopassos)"
      ]
    }
  ]
}